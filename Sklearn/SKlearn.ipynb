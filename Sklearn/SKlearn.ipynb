{
 "cells": [
  {
   "cell_type": "code",
   "execution_count": 1,
   "metadata": {},
   "outputs": [],
   "source": [
    "import math\n",
    "import numpy as np\n",
    "import matplotlib.pyplot as plt\n",
    "%matplotlib inline\n",
    "import pandas as pd\n",
    "import io\n",
    "from scipy import stats"
   ]
  },
  {
   "cell_type": "markdown",
   "metadata": {},
   "source": [
    "## Data Preprocessor"
   ]
  },
  {
   "cell_type": "code",
   "execution_count": 2,
   "metadata": {},
   "outputs": [],
   "source": [
    "####DATA PREP####\n",
    "from sklearn.preprocessing import Imputer, MinMaxScaler\n",
    "def str_to_int(df):\n",
    "    str_columns = df.select_dtypes(['object']).columns\n",
    "    for col in str_columns:\n",
    "        df[col] = df[col].astype('category')\n",
    "\n",
    "    cat_columns = df.select_dtypes(['category']).columns\n",
    "    df[cat_columns] = df[cat_columns].apply(lambda x: x.cat.codes)\n",
    "    return df\n",
    "\n",
    "def count_space_except_nan(x):\n",
    "    if isinstance(x,str):\n",
    "        return x.count(\" \") + 1\n",
    "    else :\n",
    "        return 0\n",
    "def encode(data, cols):\n",
    "    for i in cols:\n",
    "        temp = pd.get_dummies(data[i], prefix=i)\n",
    "        data = pd.concat([data, temp], axis=1)\n",
    "        data.drop([data.keys()[-1],i], inplace = True, axis=1)\n",
    "    return data\n",
    "def fillnan(data,cols):\n",
    "    imp = Imputer(missing_values='NaN', strategy='mean', axis=0)\n",
    "    data[cols] =imp.fit_transform(data[cols])\n",
    "    return data\n",
    "def normalize_age(data,cols):\n",
    "    scaler = MinMaxScaler()\n",
    "    for i in cols:\n",
    "        data[i] = scaler.fit_transform(data[i].values.reshape(-1,1))\n",
    "    return data"
   ]
  },
  {
   "cell_type": "code",
   "execution_count": 3,
   "metadata": {},
   "outputs": [],
   "source": [
    "####DATA CONVERSTION###\n",
    "def split(d):\n",
    "    X,y= d.iloc[:,1:],d.iloc[:,0]\n",
    "    return X,y\n",
    "def convert(X,y):\n",
    "    X = X.values\n",
    "    y = y.values[np.newaxis].T\n",
    "    return X,y"
   ]
  },
  {
   "cell_type": "code",
   "execution_count": 4,
   "metadata": {},
   "outputs": [],
   "source": [
    "###Processing DATA###\n",
    "def Preprocess(Data,ttype):\n",
    "    Data = Data.drop([\"Name\",\"Ticket\",\"PassengerId\",\"Cabin\"],axis=1)\n",
    "    if(ttype == \"train\"):\n",
    "        X,y= split(Data)\n",
    "        X = encode(X,['Sex','Embarked','SibSp','Parch','Pclass'])\n",
    "        X = fillnan(X,['Age','Fare']) \n",
    "        X = normalize_age(X,['Age','Fare'])\n",
    "        X,y = convert(X,y)\n",
    "        return X,y\n",
    "    else:\n",
    "        X = Data\n",
    "        X = encode(X,['Sex','Embarked','SibSp','Parch','Pclass'])\n",
    "        X = fillnan(X,['Age','Fare']) \n",
    "        X = normalize_age(X,['Age','Fare'])\n",
    "        X.drop(['Parch_6'],inplace = True,axis=1)\n",
    "        X = X.values\n",
    "        return X"
   ]
  },
  {
   "cell_type": "code",
   "execution_count": 5,
   "metadata": {},
   "outputs": [
    {
     "name": "stdout",
     "output_type": "stream",
     "text": [
      "(891, 19) (891, 1)\n"
     ]
    }
   ],
   "source": [
    "d_tr = pd.read_csv(\"D:/Programming/GitHub/Titanic-Kaggle_TF/train.csv\")\n",
    "X_tr,y_tr = Preprocess(d_tr,\"train\")\n",
    "print(X_tr.shape, y_tr.shape)"
   ]
  },
  {
   "cell_type": "code",
   "execution_count": 6,
   "metadata": {},
   "outputs": [
    {
     "name": "stdout",
     "output_type": "stream",
     "text": [
      "(418, 19)\n"
     ]
    }
   ],
   "source": [
    "d_te = pd.read_csv(\"D:/Programming/GitHub/Titanic-Kaggle_TF/test.csv\")\n",
    "X_te = Preprocess(d_te,\"test\")\n",
    "print(X_te.shape)"
   ]
  },
  {
   "cell_type": "code",
   "execution_count": 7,
   "metadata": {},
   "outputs": [],
   "source": [
    "from sklearn.model_selection import train_test_split\n",
    "X_train, X_test, y_train, y_test = train_test_split(X_tr, y_tr, test_size=0.2,train_size = 0.8, random_state=42)"
   ]
  },
  {
   "cell_type": "markdown",
   "metadata": {},
   "source": [
    "## SKlearn Modules"
   ]
  },
  {
   "cell_type": "code",
   "execution_count": 10,
   "metadata": {},
   "outputs": [],
   "source": [
    "from sklearn.metrics import accuracy_score, log_loss\n",
    "from sklearn.svm import SVC, LinearSVC, NuSVC\n",
    "from sklearn.discriminant_analysis import LinearDiscriminantAnalysis"
   ]
  },
  {
   "cell_type": "code",
   "execution_count": 17,
   "metadata": {},
   "outputs": [
    {
     "data": {
      "text/plain": [
       "LinearDiscriminantAnalysis(n_components=None, priors=None, shrinkage=None,\n",
       "              solver='svd', store_covariance=False, tol=0.0001)"
      ]
     },
     "execution_count": 17,
     "metadata": {},
     "output_type": "execute_result"
    }
   ],
   "source": [
    "clf = LinearDiscriminantAnalysis()\n",
    "clf.fit(X_train, np.squeeze(y_train))"
   ]
  },
  {
   "cell_type": "code",
   "execution_count": 22,
   "metadata": {},
   "outputs": [
    {
     "data": {
      "text/plain": [
       "0.8044692737430168"
      ]
     },
     "execution_count": 22,
     "metadata": {},
     "output_type": "execute_result"
    }
   ],
   "source": [
    "acc = accuracy_score(y_test, clf.predict(X_test))\n",
    "acc"
   ]
  },
  {
   "cell_type": "code",
   "execution_count": 28,
   "metadata": {},
   "outputs": [
    {
     "data": {
      "text/plain": [
       "0.7988826815642458"
      ]
     },
     "execution_count": 28,
     "metadata": {},
     "output_type": "execute_result"
    }
   ],
   "source": [
    "from sklearn.linear_model import LogisticRegression\n",
    "clf = LogisticRegression(random_state=5, solver='lbfgs',multi_class='multinomial',n_jobs=2,max_iter=10000).fit(X_train, np.squeeze(y_train))\n",
    "acc = accuracy_score(y_test, clf.predict(X_test))\n",
    "acc"
   ]
  },
  {
   "cell_type": "code",
   "execution_count": 13,
   "metadata": {},
   "outputs": [
    {
     "name": "stderr",
     "output_type": "stream",
     "text": [
      "C:\\Users\\Vinu\\Anaconda3\\lib\\site-packages\\sklearn\\ensemble\\weight_boosting.py:29: DeprecationWarning: numpy.core.umath_tests is an internal NumPy module and should not be imported. It will be removed in a future NumPy release.\n",
      "  from numpy.core.umath_tests import inner1d\n",
      "[Parallel(n_jobs=1)]: Done 2000 out of 2000 | elapsed:    1.3s finished\n",
      "[Parallel(n_jobs=1)]: Done 2000 out of 2000 | elapsed:    0.1s finished\n"
     ]
    },
    {
     "data": {
      "text/plain": [
       "0.8100558659217877"
      ]
     },
     "execution_count": 13,
     "metadata": {},
     "output_type": "execute_result"
    }
   ],
   "source": [
    "from sklearn.ensemble import RandomForestClassifier\n",
    "clf = RandomForestClassifier(n_estimators=2000, random_state=0,max_features=\"sqrt\",verbose=True).fit(X_train,y_train.ravel())\n",
    "acc = accuracy_score(y_test, clf.predict(X_test))\n",
    "acc"
   ]
  },
  {
   "cell_type": "code",
   "execution_count": 10,
   "metadata": {},
   "outputs": [
    {
     "name": "stdout",
     "output_type": "stream",
     "text": [
      "[LibSVM]"
     ]
    },
    {
     "data": {
      "text/plain": [
       "0.7821229050279329"
      ]
     },
     "execution_count": 10,
     "metadata": {},
     "output_type": "execute_result"
    }
   ],
   "source": [
    "from sklearn.svm import SVC\n",
    "from sklearn.metrics import accuracy_score, log_loss\n",
    "clf = SVC(kernel='rbf', max_iter=-1,gamma='auto',verbose=True)\n",
    "clf.fit(X_train, y_train.ravel())\n",
    "acc = accuracy_score(y_test, clf.predict(X_test))\n",
    "acc"
   ]
  },
  {
   "cell_type": "code",
   "execution_count": 14,
   "metadata": {},
   "outputs": [
    {
     "name": "stderr",
     "output_type": "stream",
     "text": [
      "[Parallel(n_jobs=1)]: Done 2000 out of 2000 | elapsed:    0.1s finished\n"
     ]
    },
    {
     "data": {
      "text/plain": [
       "0.2167310167310167"
      ]
     },
     "execution_count": 14,
     "metadata": {},
     "output_type": "execute_result"
    }
   ],
   "source": [
    "from sklearn.metrics import r2_score\n",
    "y_pred = clf.predict(X_test)\n",
    "r2_score(y_test, y_pred)"
   ]
  },
  {
   "cell_type": "code",
   "execution_count": null,
   "metadata": {},
   "outputs": [],
   "source": []
  }
 ],
 "metadata": {
  "kernelspec": {
   "display_name": "Python 3",
   "language": "python",
   "name": "python3"
  },
  "language_info": {
   "codemirror_mode": {
    "name": "ipython",
    "version": 3
   },
   "file_extension": ".py",
   "mimetype": "text/x-python",
   "name": "python",
   "nbconvert_exporter": "python",
   "pygments_lexer": "ipython3",
   "version": "3.6.3"
  }
 },
 "nbformat": 4,
 "nbformat_minor": 2
}

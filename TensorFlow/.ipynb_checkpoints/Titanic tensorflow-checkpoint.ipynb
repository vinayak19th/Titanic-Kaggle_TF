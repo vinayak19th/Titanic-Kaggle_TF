{
 "cells": [
  {
   "cell_type": "code",
   "execution_count": 12,
   "metadata": {},
   "outputs": [],
   "source": [
    "import math\n",
    "import numpy as np\n",
    "import matplotlib.pyplot as plt\n",
    "%matplotlib inline\n",
    "import tensorflow as tf\n",
    "from tensorflow.python.framework import ops\n",
    "import pandas as pd\n",
    "import io\n",
    "from scipy import stats"
   ]
  },
  {
   "cell_type": "code",
   "execution_count": 97,
   "metadata": {},
   "outputs": [],
   "source": [
    "####DATA PREP####\n",
    "from sklearn.preprocessing import Imputer, MinMaxScaler\n",
    "def str_to_int(df):\n",
    "    str_columns = df.select_dtypes(['object']).columns\n",
    "    for col in str_columns:\n",
    "        df[col] = df[col].astype('category')\n",
    "\n",
    "    cat_columns = df.select_dtypes(['category']).columns\n",
    "    df[cat_columns] = df[cat_columns].apply(lambda x: x.cat.codes)\n",
    "    return df\n",
    "\n",
    "def count_space_except_nan(x):\n",
    "    if isinstance(x,str):\n",
    "        return x.count(\" \") + 1\n",
    "    else :\n",
    "        return 0\n",
    "def encode(data, cols):\n",
    "    for i in cols:\n",
    "        temp = pd.get_dummies(data[i], prefix=i)\n",
    "        data = pd.concat([data, temp], axis=1)\n",
    "        data.drop([data.keys()[-1],i], inplace = True, axis=1)\n",
    "    return data\n",
    "def fillnan(data,cols):\n",
    "    imp = Imputer(missing_values='NaN', strategy='mean', axis=0)\n",
    "    data[cols] =imp.fit_transform(data[cols])\n",
    "    return data\n",
    "def normalize_age(data,cols):\n",
    "    scaler = MinMaxScaler()\n",
    "    for i in cols:\n",
    "        data[i] = scaler.fit_transform(data[i].values.reshape(-1,1))\n",
    "    return data"
   ]
  },
  {
   "cell_type": "code",
   "execution_count": 105,
   "metadata": {},
   "outputs": [],
   "source": [
    "####DATA CONVERSTION###\n",
    "def split(d):\n",
    "    X,y= d.iloc[:,1:],d.iloc[:,0]\n",
    "    return X,y\n",
    "def convert(X):\n",
    "    X = X.values\n",
    "    y = y.values[np.newaxis].T\n",
    "    return X,y"
   ]
  },
  {
   "cell_type": "code",
   "execution_count": 136,
   "metadata": {
    "scrolled": true
   },
   "outputs": [],
   "source": [
    "###Processing DATA###\n",
    "def Preprocess(Data,ttype):\n",
    "    Data = Data.drop([\"Name\",\"Ticket\",\"PassengerId\",\"Cabin\"],axis=1)\n",
    "    if(ttype == \"train\"):\n",
    "        X,y= split(Data)\n",
    "        X = encode(X,['Sex','Embarked','SibSp','Parch','Pclass'])\n",
    "        X = fillnan(X,['Age','Fare']) \n",
    "        X = normalize_age(X,['Age','Fare'])\n",
    "        X,y = convert(X,y)\n",
    "        return X,y\n",
    "    else:\n",
    "        X = Data\n",
    "        X = encode(X,['Sex','Embarked','SibSp','Parch','Pclass'])\n",
    "        X = fillnan(X,['Age','Fare']) \n",
    "        X = normalize_age(X,['Age','Fare'])\n",
    "        X.drop(['Parch_6'],inplace = True,axis=1)\n",
    "        X = X.values\n",
    "        return X"
   ]
  },
  {
   "cell_type": "code",
   "execution_count": 137,
   "metadata": {},
   "outputs": [
    {
     "name": "stdout",
     "output_type": "stream",
     "text": [
      "(891, 19) (891, 1)\n"
     ]
    }
   ],
   "source": [
    "d_tr = pd.read_csv(\"D:/Programming/GitHub/Titanic-Kaggle_TF/train.csv\")\n",
    "X_tr,y_tr = Preprocess(d_tr,\"train\")\n",
    "print(X_tr.shape, y_tr.shape)"
   ]
  },
  {
   "cell_type": "code",
   "execution_count": 144,
   "metadata": {},
   "outputs": [
    {
     "name": "stdout",
     "output_type": "stream",
     "text": [
      "(418, 19)\n"
     ]
    }
   ],
   "source": [
    "d_te = pd.read_csv(\"D:/Programming/GitHub/Titanic-Kaggle_TF/test.csv\")\n",
    "X_te = Preprocess(d_te,\"test\")\n",
    "print(X_te.shape)"
   ]
  },
  {
   "cell_type": "code",
   "execution_count": null,
   "metadata": {},
   "outputs": [],
   "source": []
  }
 ],
 "metadata": {
  "kernelspec": {
   "display_name": "Python 3",
   "language": "python",
   "name": "python3"
  },
  "language_info": {
   "codemirror_mode": {
    "name": "ipython",
    "version": 3
   },
   "file_extension": ".py",
   "mimetype": "text/x-python",
   "name": "python",
   "nbconvert_exporter": "python",
   "pygments_lexer": "ipython3",
   "version": "3.6.3"
  }
 },
 "nbformat": 4,
 "nbformat_minor": 2
}

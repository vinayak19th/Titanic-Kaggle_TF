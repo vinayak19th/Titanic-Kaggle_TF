{
 "cells": [
  {
   "cell_type": "code",
   "execution_count": 15,
   "metadata": {},
   "outputs": [],
   "source": [
    "import math\n",
    "import numpy as np\n",
    "import matplotlib.pyplot as plt\n",
    "%matplotlib inline\n",
    "import tensorflow as tf\n",
    "import pandas as pd\n",
    "import dask\n",
    "import io\n",
    "from scipy import stats"
   ]
  },
  {
   "cell_type": "markdown",
   "metadata": {},
   "source": [
    "## Data Preprocessor\n",
    "\n",
    "Clean up the data and perform necessary preprocessing"
   ]
  },
  {
   "cell_type": "code",
   "execution_count": 2,
   "metadata": {},
   "outputs": [],
   "source": [
    "####DATA PREP####\n",
    "from sklearn.preprocessing import Imputer, MinMaxScaler\n",
    "def str_to_int(df):\n",
    "    str_columns = df.select_dtypes(['object']).columns\n",
    "    for col in str_columns:\n",
    "        df[col] = df[col].astype('category')\n",
    "\n",
    "    cat_columns = df.select_dtypes(['category']).columns\n",
    "    df[cat_columns] = df[cat_columns].apply(lambda x: x.cat.codes)\n",
    "    return df\n",
    "\n",
    "def count_space_except_nan(x):\n",
    "    if isinstance(x,str):\n",
    "        return x.count(\" \") + 1\n",
    "    else :\n",
    "        return 0\n",
    "def encode(data, cols):\n",
    "    for i in cols:\n",
    "        temp = pd.get_dummies(data[i], prefix=i)\n",
    "        data = pd.concat([data, temp], axis=1)\n",
    "        data.drop([data.keys()[-1],i], inplace = True, axis=1)\n",
    "    return data\n",
    "def fillnan(data,cols):\n",
    "    imp = Imputer(missing_values='NaN', strategy='mean', axis=0)\n",
    "    data[cols] =imp.fit_transform(data[cols])\n",
    "    return data\n",
    "def normalize_age(data,cols):\n",
    "    scaler = MinMaxScaler()\n",
    "    for i in cols:\n",
    "        data[i] = scaler.fit_transform(data[i].values.reshape(-1,1))\n",
    "    return data"
   ]
  },
  {
   "cell_type": "code",
   "execution_count": 3,
   "metadata": {},
   "outputs": [],
   "source": [
    "####DATA CONVERSTION###\n",
    "def split(d):\n",
    "    X,y= d.iloc[:,1:],d.iloc[:,0]\n",
    "    return X,y\n",
    "def convert(X,y):\n",
    "    X = X.values\n",
    "    y = y.values[np.newaxis].T\n",
    "    return X,y"
   ]
  },
  {
   "cell_type": "code",
   "execution_count": 4,
   "metadata": {
    "scrolled": true
   },
   "outputs": [],
   "source": [
    "###Processing DATA###\n",
    "def Preprocess(Data,ttype):\n",
    "    Data = Data.drop([\"Name\",\"Ticket\",\"PassengerId\",\"Cabin\"],axis=1)\n",
    "    if(ttype == \"train\"):\n",
    "        X,y= split(Data)\n",
    "        X = encode(X,['Sex','Embarked','SibSp','Parch','Pclass'])\n",
    "        X = fillnan(X,['Age','Fare']) \n",
    "        X = normalize_age(X,['Age','Fare'])\n",
    "        X,y = convert(X,y)\n",
    "        return X,y\n",
    "    else:\n",
    "        X = Data\n",
    "        X = encode(X,['Sex','Embarked','SibSp','Parch','Pclass'])\n",
    "        X = fillnan(X,['Age','Fare']) \n",
    "        X = normalize_age(X,['Age','Fare'])\n",
    "        X.drop(['Parch_6'],inplace = True,axis=1)\n",
    "        X = X.values\n",
    "        return X"
   ]
  },
  {
   "cell_type": "code",
   "execution_count": 65,
   "metadata": {},
   "outputs": [],
   "source": [
    "d_tr = pd.read_csv(\"train.csv\")"
   ]
  },
  {
   "cell_type": "code",
   "execution_count": 66,
   "metadata": {},
   "outputs": [
    {
     "name": "stdout",
     "output_type": "stream",
     "text": [
      "(891, 19) (891, 1)\n"
     ]
    }
   ],
   "source": [
    "X_tr,y_tr = Preprocess(d_tr,\"train\")\n",
    "print(X_tr.shape, y_tr.shape)"
   ]
  },
  {
   "cell_type": "code",
   "execution_count": 63,
   "metadata": {},
   "outputs": [],
   "source": [
    "d_te = pd.read_csv(\"D:/Programming/GitHub/Titanic-Kaggle/test.csv\")\n",
    "survivors = d_te['PassengerId']"
   ]
  },
  {
   "cell_type": "code",
   "execution_count": 64,
   "metadata": {},
   "outputs": [
    {
     "name": "stdout",
     "output_type": "stream",
     "text": [
      "(418, 19)\n"
     ]
    }
   ],
   "source": [
    "X_te = Preprocess(d_te,\"test\")\n",
    "print(X_te.shape)"
   ]
  },
  {
   "cell_type": "code",
   "execution_count": 8,
   "metadata": {},
   "outputs": [],
   "source": [
    "from sklearn.model_selection import train_test_split\n",
    "X_train, X_test, y_train, y_test = train_test_split(X_tr, y_tr, test_size=0.05,train_size = 0.95)"
   ]
  },
  {
   "cell_type": "code",
   "execution_count": null,
   "metadata": {},
   "outputs": [],
   "source": [
    "X_train.shape"
   ]
  },
  {
   "cell_type": "markdown",
   "metadata": {},
   "source": [
    "## TensorFlow\n",
    "\n",
    "Implementing a n-layer neural network "
   ]
  },
  {
   "cell_type": "code",
   "execution_count": 97,
   "metadata": {},
   "outputs": [],
   "source": [
    "###HYPER PARAMETERS###\n",
    "feature_count = X_train.shape[1]\n",
    "labels = y_train.shape[1]\n",
    "epochs = 5000\n",
    "alpha = 0.0009\n",
    "h_layers = feature_count - 1\n",
    "cost_history = np.empty(shape=[1],dtype=float)\n",
    "\n",
    "X = tf.placeholder(tf.float32,[None,feature_count])\n",
    "Y = tf.placeholder(tf.float32,[None,labels])\n",
    "train=tf.Variable(True,dtype=tf.bool)\n",
    "init = tf.contrib.layers.xavier_initializer()"
   ]
  },
  {
   "cell_type": "code",
   "execution_count": 123,
   "metadata": {},
   "outputs": [],
   "source": [
    "def layer_generate(n,X,drop = None):\n",
    "    H = []\n",
    "    H.append(tf.layers.dense(X,h_layers,activation=tf.nn.leaky_relu,kernel_initializer=init))\n",
    "    for i in range(1,n,2):\n",
    "        H.append(tf.layers.dense(H[-1],H[-1].shape[1],activation=tf.nn.relu,kernel_initializer=init))\n",
    "        H[-1] = tf.nn.dropout(H[-1], 0.80)\n",
    "        H.append(tf.layers.dense(H[-1],H[-1].shape[1],activation=None,kernel_initializer=init))\n",
    "    H.append(tf.layers.dense(H[-1],labels,activation=None,kernel_initializer=init))\n",
    "    return H"
   ]
  },
  {
   "cell_type": "code",
   "execution_count": 124,
   "metadata": {},
   "outputs": [],
   "source": [
    "###TENSORFLOW CREATE LAYERS###\n",
    "H = layer_generate(6,X)\n",
    "cross = tf.nn.sigmoid_cross_entropy_with_logits(labels=Y,logits=H[-1])\n",
    "cost = tf.reduce_mean(cross)\n",
    "optimizer = tf.train.AdamOptimizer(learning_rate=alpha, beta1=0.9, beta2=0.992).minimize(cost)\n",
    "predicted = tf.nn.sigmoid(H[-1])"
   ]
  },
  {
   "cell_type": "code",
   "execution_count": 125,
   "metadata": {},
   "outputs": [],
   "source": [
    "###PREDICTIONS####\n",
    "correct_pred = tf.equal(tf.round(predicted), Y)\n",
    "accuracy = tf.reduce_mean(tf.cast(correct_pred, tf.float32))"
   ]
  },
  {
   "cell_type": "code",
   "execution_count": 126,
   "metadata": {},
   "outputs": [
    {
     "name": "stdout",
     "output_type": "stream",
     "text": [
      "Step:     0\tLoss: 0.689\tAcc: 63.06%\n",
      "Step:   500\tLoss: 0.298\tAcc: 86.80%\n",
      "Step:  1000\tLoss: 0.271\tAcc: 87.64%\n",
      "Step:  1500\tLoss: 0.254\tAcc: 88.76%\n",
      "Step:  2000\tLoss: 0.243\tAcc: 88.62%\n",
      "Step:  2500\tLoss: 0.235\tAcc: 89.33%\n",
      "Step:  3000\tLoss: 0.240\tAcc: 89.04%\n",
      "Step:  3500\tLoss: 0.220\tAcc: 90.31%\n",
      "Step:  4000\tLoss: 0.213\tAcc: 90.03%\n",
      "Step:  4500\tLoss: 0.222\tAcc: 90.17%\n",
      "Step:  5000\tLoss: 0.223\tAcc: 91.29%\n",
      "Step:  5500\tLoss: 0.223\tAcc: 90.17%\n",
      "Step:  6000\tLoss: 0.226\tAcc: 89.33%\n",
      "Test Accuracy= 0.7821229\n"
     ]
    }
   ],
   "source": [
    "###RUN NETWORK###\n",
    "with tf.Session() as sess:\n",
    "    sess.run(tf.global_variables_initializer())\n",
    "    for i in range(epochs+1):\n",
    "        sess.run(optimizer,feed_dict={X: X_train,Y: y_train})\n",
    "        loss, _, acc = sess.run([cost, optimizer, accuracy], feed_dict={X: X_train,Y: y_train})\n",
    "        cost_history = np.append(cost_history, acc)\n",
    "        if i % 1000 == 0:\n",
    "            print(\"Step: {:5}\\tLoss: {:.3f}\\tAcc: {:.2%}\".format(i, loss, acc))\n",
    "    acc,results =  sess.run([accuracy,tf.cast(tf.round(predicted),tf.int32)], feed_dict={X: X_test,Y: y_test})\n",
    "print(\"Test Accuracy=\",acc)"
   ]
  },
  {
   "cell_type": "code",
   "execution_count": 115,
   "metadata": {},
   "outputs": [],
   "source": [
    "print(acc)\n",
    "if(acc>bestacc[-1]):\n",
    "    bestacc.append(acc)\n",
    "bestacc"
   ]
  },
  {
   "cell_type": "code",
   "execution_count": null,
   "metadata": {},
   "outputs": [],
   "source": [
    "bestacc = [0]"
   ]
  },
  {
   "cell_type": "code",
   "execution_count": 128,
   "metadata": {},
   "outputs": [
    {
     "name": "stdout",
     "output_type": "stream",
     "text": [
      "(48009,)\n"
     ]
    },
    {
     "data": {
      "image/png": "[encoded data removed]",
      "text/plain": [
       "<Figure size 432x288 with 1 Axes>"
      ]
     },
     "metadata": {},
     "output_type": "display_data"
    }
   ],
   "source": [
    "###Plot Cost Function###\n",
    "print(cost_history.shape)\n",
    "plt.plot(range(len(cost_history)),cost_history)\n",
    "plt.axis([0,epochs,0,1])\n",
    "plt.show()"
   ]
  },
  {
   "cell_type": "code",
   "execution_count": null,
   "metadata": {},
   "outputs": [],
   "source": []
  }
 ],
 "metadata": {
  "kernelspec": {
   "display_name": "Python 3",
   "language": "python",
   "name": "python3"
  },
  "language_info": {
   "codemirror_mode": {
    "name": "ipython",
    "version": 3
   },
   "file_extension": ".py",
   "mimetype": "text/x-python",
   "name": "python",
   "nbconvert_exporter": "python",
   "pygments_lexer": "ipython3",
   "version": "3.6.3"
  }
 },
 "nbformat": 4,
 "nbformat_minor": 2
}
